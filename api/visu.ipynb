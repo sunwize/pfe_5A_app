{
 "cells": [
  {
   "cell_type": "code",
   "execution_count": 2,
   "metadata": {},
   "outputs": [],
   "source": [
    "import pandas as pd\n",
    "import ast\n",
    "import numpy as np\n",
    "import matplotlib.pyplot as plt"
   ]
  },
  {
   "cell_type": "code",
   "execution_count": 9,
   "metadata": {},
   "outputs": [],
   "source": [
    " df = pd.read_csv('dataset/dataset_mbti_quiz.csv', names=['Personnalite', 'Reponses'])\n",
    "\n",
    "# Nombre de ligne par personnalité \n",
    "#print(df.groupby('Personnalite').count())\n",
    "for i in range(len(df)):\n",
    "      df['Reponses'][i] = ast.literal_eval(df['Reponses'][i])\n",
    "\n",
    "df[['q0', 'q1', 'q2', 'q3', 'q4', 'q5', 'q6', 'q7', 'q8', 'q9', 'q10', 'q11', 'q12', 'q13', 'q14', 'q15', 'q16', 'q17', 'q18', 'q19', 'q20', 'q21', 'q22', 'q23', 'q24', 'q25', 'q26', 'q27', 'q28', 'q29', 'q30', 'q31', 'q32', 'q33', 'q34', 'q35', 'q36', 'q37', 'q38', 'q39', 'q40', 'q41', 'q42', 'q43', 'q44', 'q45', 'q46', 'q47', 'q48', 'q49', 'q50', 'q51', 'q52', 'q53', 'q54', 'q55', 'q56', 'q57', 'q58', 'q59']] = pd.DataFrame(df.Reponses.values.tolist(), index= df.index)\n",
    "\n",
    "y=df.Personnalite\n",
    "x=df.drop(['Reponses', 'Personnalite' ],axis=1)"
   ]
  },
  {
   "cell_type": "code",
   "execution_count": 14,
   "metadata": {},
   "outputs": [
    {
     "name": "stdout",
     "output_type": "stream",
     "text": [
      "              Reponses    q0    q1    q2    q3    q4    q5    q6    q7    q8  \\\n",
      "Personnalite                                                                   \n",
      "enfj               416   416   416   416   416   416   416   416   416   416   \n",
      "enfp               427   427   427   427   427   427   427   427   427   427   \n",
      "entj               391   391   391   391   391   391   391   391   391   391   \n",
      "entp               396   396   396   396   396   396   396   396   396   396   \n",
      "esfj               892   892   892   892   892   892   892   892   892   892   \n",
      "esfp              1011  1011  1011  1011  1011  1011  1011  1011  1011  1011   \n",
      "estj               816   816   816   816   816   816   816   816   816   816   \n",
      "estp               928   928   928   928   928   928   928   928   928   928   \n",
      "infj               453   453   453   453   453   453   453   453   453   453   \n",
      "infp               533   533   533   533   533   533   533   533   533   533   \n",
      "intj               415   415   415   415   415   415   415   415   415   415   \n",
      "intp               441   441   441   441   441   441   441   441   441   441   \n",
      "isfj              1021  1021  1021  1021  1021  1021  1021  1021  1021  1021   \n",
      "isfp              1164  1164  1164  1164  1164  1164  1164  1164  1164  1164   \n",
      "istj               978   978   978   978   978   978   978   978   978   978   \n",
      "istp              1094  1094  1094  1094  1094  1094  1094  1094  1094  1094   \n",
      "\n",
      "              ...   q50   q51   q52   q53   q54   q55   q56   q57   q58   q59  \n",
      "Personnalite  ...                                                              \n",
      "enfj          ...   416   416   416   416   416   416   416   416   416   416  \n",
      "enfp          ...   427   427   427   427   427   427   427   427   427   427  \n",
      "entj          ...   391   391   391   391   391   391   391   391   391   391  \n",
      "entp          ...   396   396   396   396   396   396   396   396   396   396  \n",
      "esfj          ...   892   892   892   892   892   892   892   892   892   892  \n",
      "esfp          ...  1011  1011  1011  1011  1011  1011  1011  1011  1011  1011  \n",
      "estj          ...   816   816   816   816   816   816   816   816   816   816  \n",
      "estp          ...   928   928   928   928   928   928   928   928   928   928  \n",
      "infj          ...   453   453   453   453   453   453   453   453   453   453  \n",
      "infp          ...   533   533   533   533   533   533   533   533   533   533  \n",
      "intj          ...   415   415   415   415   415   415   415   415   415   415  \n",
      "intp          ...   441   441   441   441   441   441   441   441   441   441  \n",
      "isfj          ...  1021  1021  1021  1021  1021  1021  1021  1021  1021  1021  \n",
      "isfp          ...  1164  1164  1164  1164  1164  1164  1164  1164  1164  1164  \n",
      "istj          ...   978   978   978   978   978   978   978   978   978   978  \n",
      "istp          ...  1094  1094  1094  1094  1094  1094  1094  1094  1094  1094  \n",
      "\n",
      "[16 rows x 61 columns]\n"
     ]
    }
   ],
   "source": [
    "# Nombre de ligne par personnalité \n",
    "print(df.groupby('Personnalite').count())"
   ]
  },
  {
   "cell_type": "code",
   "execution_count": 7,
   "metadata": {},
   "outputs": [
    {
     "data": {
      "text/html": [
       "<div>\n",
       "<style scoped>\n",
       "    .dataframe tbody tr th:only-of-type {\n",
       "        vertical-align: middle;\n",
       "    }\n",
       "\n",
       "    .dataframe tbody tr th {\n",
       "        vertical-align: top;\n",
       "    }\n",
       "\n",
       "    .dataframe thead th {\n",
       "        text-align: right;\n",
       "    }\n",
       "</style>\n",
       "<table border=\"1\" class=\"dataframe\">\n",
       "  <thead>\n",
       "    <tr style=\"text-align: right;\">\n",
       "      <th></th>\n",
       "      <th>Personnalite</th>\n",
       "      <th>Reponses</th>\n",
       "      <th>q0</th>\n",
       "      <th>q1</th>\n",
       "      <th>q2</th>\n",
       "      <th>q3</th>\n",
       "      <th>q4</th>\n",
       "      <th>q5</th>\n",
       "      <th>q6</th>\n",
       "      <th>q7</th>\n",
       "      <th>...</th>\n",
       "      <th>q50</th>\n",
       "      <th>q51</th>\n",
       "      <th>q52</th>\n",
       "      <th>q53</th>\n",
       "      <th>q54</th>\n",
       "      <th>q55</th>\n",
       "      <th>q56</th>\n",
       "      <th>q57</th>\n",
       "      <th>q58</th>\n",
       "      <th>q59</th>\n",
       "    </tr>\n",
       "  </thead>\n",
       "  <tbody>\n",
       "    <tr>\n",
       "      <td>0</td>\n",
       "      <td>entp</td>\n",
       "      <td>[3, 6, 3, 4, 6, 2, 4, 3, 7, 4, 5, 3, 3, 6, 7, ...</td>\n",
       "      <td>3</td>\n",
       "      <td>6</td>\n",
       "      <td>3</td>\n",
       "      <td>4</td>\n",
       "      <td>6</td>\n",
       "      <td>2</td>\n",
       "      <td>4</td>\n",
       "      <td>3</td>\n",
       "      <td>...</td>\n",
       "      <td>3</td>\n",
       "      <td>7</td>\n",
       "      <td>5</td>\n",
       "      <td>5</td>\n",
       "      <td>4</td>\n",
       "      <td>5</td>\n",
       "      <td>2</td>\n",
       "      <td>7</td>\n",
       "      <td>5</td>\n",
       "      <td>6</td>\n",
       "    </tr>\n",
       "    <tr>\n",
       "      <td>1</td>\n",
       "      <td>enfp</td>\n",
       "      <td>[4, 2, 6, 4, 5, 3, 5, 1, 7, 6, 6, 1, 4, 4, 5, ...</td>\n",
       "      <td>4</td>\n",
       "      <td>2</td>\n",
       "      <td>6</td>\n",
       "      <td>4</td>\n",
       "      <td>5</td>\n",
       "      <td>3</td>\n",
       "      <td>5</td>\n",
       "      <td>1</td>\n",
       "      <td>...</td>\n",
       "      <td>4</td>\n",
       "      <td>7</td>\n",
       "      <td>4</td>\n",
       "      <td>2</td>\n",
       "      <td>2</td>\n",
       "      <td>3</td>\n",
       "      <td>3</td>\n",
       "      <td>4</td>\n",
       "      <td>5</td>\n",
       "      <td>6</td>\n",
       "    </tr>\n",
       "    <tr>\n",
       "      <td>2</td>\n",
       "      <td>istp</td>\n",
       "      <td>[2, 4, 1, 7, 6, 5, 1, 7, 3, 6, 6, 3, 1, 7, 7, ...</td>\n",
       "      <td>2</td>\n",
       "      <td>4</td>\n",
       "      <td>1</td>\n",
       "      <td>7</td>\n",
       "      <td>6</td>\n",
       "      <td>5</td>\n",
       "      <td>1</td>\n",
       "      <td>7</td>\n",
       "      <td>...</td>\n",
       "      <td>6</td>\n",
       "      <td>2</td>\n",
       "      <td>3</td>\n",
       "      <td>3</td>\n",
       "      <td>6</td>\n",
       "      <td>5</td>\n",
       "      <td>1</td>\n",
       "      <td>5</td>\n",
       "      <td>5</td>\n",
       "      <td>2</td>\n",
       "    </tr>\n",
       "    <tr>\n",
       "      <td>3</td>\n",
       "      <td>estj</td>\n",
       "      <td>[2, 2, 6, 1, 7, 6, 4, 1, 4, 3, 6, 2, 2, 2, 5, ...</td>\n",
       "      <td>2</td>\n",
       "      <td>2</td>\n",
       "      <td>6</td>\n",
       "      <td>1</td>\n",
       "      <td>7</td>\n",
       "      <td>6</td>\n",
       "      <td>4</td>\n",
       "      <td>1</td>\n",
       "      <td>...</td>\n",
       "      <td>1</td>\n",
       "      <td>1</td>\n",
       "      <td>5</td>\n",
       "      <td>6</td>\n",
       "      <td>6</td>\n",
       "      <td>4</td>\n",
       "      <td>4</td>\n",
       "      <td>6</td>\n",
       "      <td>5</td>\n",
       "      <td>3</td>\n",
       "    </tr>\n",
       "    <tr>\n",
       "      <td>4</td>\n",
       "      <td>entj</td>\n",
       "      <td>[2, 1, 3, 7, 7, 6, 3, 4, 5, 4, 7, 5, 7, 2, 6, ...</td>\n",
       "      <td>2</td>\n",
       "      <td>1</td>\n",
       "      <td>3</td>\n",
       "      <td>7</td>\n",
       "      <td>7</td>\n",
       "      <td>6</td>\n",
       "      <td>3</td>\n",
       "      <td>4</td>\n",
       "      <td>...</td>\n",
       "      <td>6</td>\n",
       "      <td>6</td>\n",
       "      <td>1</td>\n",
       "      <td>5</td>\n",
       "      <td>1</td>\n",
       "      <td>3</td>\n",
       "      <td>2</td>\n",
       "      <td>6</td>\n",
       "      <td>2</td>\n",
       "      <td>6</td>\n",
       "    </tr>\n",
       "    <tr>\n",
       "      <td>...</td>\n",
       "      <td>...</td>\n",
       "      <td>...</td>\n",
       "      <td>...</td>\n",
       "      <td>...</td>\n",
       "      <td>...</td>\n",
       "      <td>...</td>\n",
       "      <td>...</td>\n",
       "      <td>...</td>\n",
       "      <td>...</td>\n",
       "      <td>...</td>\n",
       "      <td>...</td>\n",
       "      <td>...</td>\n",
       "      <td>...</td>\n",
       "      <td>...</td>\n",
       "      <td>...</td>\n",
       "      <td>...</td>\n",
       "      <td>...</td>\n",
       "      <td>...</td>\n",
       "      <td>...</td>\n",
       "      <td>...</td>\n",
       "      <td>...</td>\n",
       "    </tr>\n",
       "    <tr>\n",
       "      <td>11371</td>\n",
       "      <td>estp</td>\n",
       "      <td>[7, 3, 6, 6, 5, 5, 6, 5, 7, 7, 7, 1, 3, 3, 6, ...</td>\n",
       "      <td>7</td>\n",
       "      <td>3</td>\n",
       "      <td>6</td>\n",
       "      <td>6</td>\n",
       "      <td>5</td>\n",
       "      <td>5</td>\n",
       "      <td>6</td>\n",
       "      <td>5</td>\n",
       "      <td>...</td>\n",
       "      <td>2</td>\n",
       "      <td>6</td>\n",
       "      <td>6</td>\n",
       "      <td>5</td>\n",
       "      <td>6</td>\n",
       "      <td>3</td>\n",
       "      <td>3</td>\n",
       "      <td>7</td>\n",
       "      <td>3</td>\n",
       "      <td>3</td>\n",
       "    </tr>\n",
       "    <tr>\n",
       "      <td>11372</td>\n",
       "      <td>enfj</td>\n",
       "      <td>[2, 2, 4, 7, 4, 4, 3, 3, 6, 4, 3, 3, 2, 4, 5, ...</td>\n",
       "      <td>2</td>\n",
       "      <td>2</td>\n",
       "      <td>4</td>\n",
       "      <td>7</td>\n",
       "      <td>4</td>\n",
       "      <td>4</td>\n",
       "      <td>3</td>\n",
       "      <td>3</td>\n",
       "      <td>...</td>\n",
       "      <td>3</td>\n",
       "      <td>2</td>\n",
       "      <td>6</td>\n",
       "      <td>7</td>\n",
       "      <td>7</td>\n",
       "      <td>4</td>\n",
       "      <td>3</td>\n",
       "      <td>7</td>\n",
       "      <td>5</td>\n",
       "      <td>6</td>\n",
       "    </tr>\n",
       "    <tr>\n",
       "      <td>11373</td>\n",
       "      <td>estp</td>\n",
       "      <td>[7, 1, 6, 2, 5, 4, 3, 2, 5, 2, 1, 2, 4, 7, 5, ...</td>\n",
       "      <td>7</td>\n",
       "      <td>1</td>\n",
       "      <td>6</td>\n",
       "      <td>2</td>\n",
       "      <td>5</td>\n",
       "      <td>4</td>\n",
       "      <td>3</td>\n",
       "      <td>2</td>\n",
       "      <td>...</td>\n",
       "      <td>4</td>\n",
       "      <td>1</td>\n",
       "      <td>6</td>\n",
       "      <td>7</td>\n",
       "      <td>6</td>\n",
       "      <td>3</td>\n",
       "      <td>3</td>\n",
       "      <td>4</td>\n",
       "      <td>7</td>\n",
       "      <td>6</td>\n",
       "    </tr>\n",
       "    <tr>\n",
       "      <td>11374</td>\n",
       "      <td>esfp</td>\n",
       "      <td>[3, 3, 7, 5, 5, 7, 7, 5, 7, 5, 7, 5, 5, 1, 7, ...</td>\n",
       "      <td>3</td>\n",
       "      <td>3</td>\n",
       "      <td>7</td>\n",
       "      <td>5</td>\n",
       "      <td>5</td>\n",
       "      <td>7</td>\n",
       "      <td>7</td>\n",
       "      <td>5</td>\n",
       "      <td>...</td>\n",
       "      <td>7</td>\n",
       "      <td>2</td>\n",
       "      <td>6</td>\n",
       "      <td>6</td>\n",
       "      <td>4</td>\n",
       "      <td>2</td>\n",
       "      <td>1</td>\n",
       "      <td>4</td>\n",
       "      <td>7</td>\n",
       "      <td>4</td>\n",
       "    </tr>\n",
       "    <tr>\n",
       "      <td>11375</td>\n",
       "      <td>estj</td>\n",
       "      <td>[1, 6, 7, 5, 7, 3, 6, 4, 4, 2, 7, 1, 2, 7, 3, ...</td>\n",
       "      <td>1</td>\n",
       "      <td>6</td>\n",
       "      <td>7</td>\n",
       "      <td>5</td>\n",
       "      <td>7</td>\n",
       "      <td>3</td>\n",
       "      <td>6</td>\n",
       "      <td>4</td>\n",
       "      <td>...</td>\n",
       "      <td>7</td>\n",
       "      <td>4</td>\n",
       "      <td>7</td>\n",
       "      <td>3</td>\n",
       "      <td>5</td>\n",
       "      <td>7</td>\n",
       "      <td>4</td>\n",
       "      <td>6</td>\n",
       "      <td>5</td>\n",
       "      <td>1</td>\n",
       "    </tr>\n",
       "  </tbody>\n",
       "</table>\n",
       "<p>11376 rows × 62 columns</p>\n",
       "</div>"
      ],
      "text/plain": [
       "      Personnalite                                           Reponses  q0  q1  \\\n",
       "0             entp  [3, 6, 3, 4, 6, 2, 4, 3, 7, 4, 5, 3, 3, 6, 7, ...   3   6   \n",
       "1             enfp  [4, 2, 6, 4, 5, 3, 5, 1, 7, 6, 6, 1, 4, 4, 5, ...   4   2   \n",
       "2             istp  [2, 4, 1, 7, 6, 5, 1, 7, 3, 6, 6, 3, 1, 7, 7, ...   2   4   \n",
       "3             estj  [2, 2, 6, 1, 7, 6, 4, 1, 4, 3, 6, 2, 2, 2, 5, ...   2   2   \n",
       "4             entj  [2, 1, 3, 7, 7, 6, 3, 4, 5, 4, 7, 5, 7, 2, 6, ...   2   1   \n",
       "...            ...                                                ...  ..  ..   \n",
       "11371         estp  [7, 3, 6, 6, 5, 5, 6, 5, 7, 7, 7, 1, 3, 3, 6, ...   7   3   \n",
       "11372         enfj  [2, 2, 4, 7, 4, 4, 3, 3, 6, 4, 3, 3, 2, 4, 5, ...   2   2   \n",
       "11373         estp  [7, 1, 6, 2, 5, 4, 3, 2, 5, 2, 1, 2, 4, 7, 5, ...   7   1   \n",
       "11374         esfp  [3, 3, 7, 5, 5, 7, 7, 5, 7, 5, 7, 5, 5, 1, 7, ...   3   3   \n",
       "11375         estj  [1, 6, 7, 5, 7, 3, 6, 4, 4, 2, 7, 1, 2, 7, 3, ...   1   6   \n",
       "\n",
       "       q2  q3  q4  q5  q6  q7  ...  q50  q51  q52  q53  q54  q55  q56  q57  \\\n",
       "0       3   4   6   2   4   3  ...    3    7    5    5    4    5    2    7   \n",
       "1       6   4   5   3   5   1  ...    4    7    4    2    2    3    3    4   \n",
       "2       1   7   6   5   1   7  ...    6    2    3    3    6    5    1    5   \n",
       "3       6   1   7   6   4   1  ...    1    1    5    6    6    4    4    6   \n",
       "4       3   7   7   6   3   4  ...    6    6    1    5    1    3    2    6   \n",
       "...    ..  ..  ..  ..  ..  ..  ...  ...  ...  ...  ...  ...  ...  ...  ...   \n",
       "11371   6   6   5   5   6   5  ...    2    6    6    5    6    3    3    7   \n",
       "11372   4   7   4   4   3   3  ...    3    2    6    7    7    4    3    7   \n",
       "11373   6   2   5   4   3   2  ...    4    1    6    7    6    3    3    4   \n",
       "11374   7   5   5   7   7   5  ...    7    2    6    6    4    2    1    4   \n",
       "11375   7   5   7   3   6   4  ...    7    4    7    3    5    7    4    6   \n",
       "\n",
       "       q58  q59  \n",
       "0        5    6  \n",
       "1        5    6  \n",
       "2        5    2  \n",
       "3        5    3  \n",
       "4        2    6  \n",
       "...    ...  ...  \n",
       "11371    3    3  \n",
       "11372    5    6  \n",
       "11373    7    6  \n",
       "11374    7    4  \n",
       "11375    5    1  \n",
       "\n",
       "[11376 rows x 62 columns]"
      ]
     },
     "execution_count": 7,
     "metadata": {},
     "output_type": "execute_result"
    }
   ],
   "source": [
    "df"
   ]
  },
  {
   "cell_type": "code",
   "execution_count": 11,
   "metadata": {},
   "outputs": [],
   "source": [
    "def warn(*args, **kwargs):\n",
    "    pass\n",
    "import warnings\n",
    "warnings.warn = warn"
   ]
  },
  {
   "cell_type": "code",
   "execution_count": 4,
   "metadata": {},
   "outputs": [],
   "source": [
    "from sklearn.model_selection import cross_val_score\n",
    "from sklearn import model_selection\n",
    "from sklearn.neural_network import MLPClassifier\n",
    "from sklearn.neighbors import KNeighborsClassifier\n",
    "from sklearn.naive_bayes import GaussianNB\n",
    "from sklearn.linear_model import LogisticRegression\n",
    "from sklearn.svm import SVC\n",
    "from sklearn.tree import DecisionTreeClassifier\n",
    "from sklearn.ensemble import RandomForestClassifier\n",
    "from sklearn.neural_network import MLPClassifier\n",
    "from sklearn.model_selection import train_test_split\n",
    "from sklearn.metrics import classification_report\n",
    "from sklearn.discriminant_analysis import LinearDiscriminantAnalysis\n",
    "from sklearn.svm import SVC, LinearSVC"
   ]
  },
  {
   "cell_type": "code",
   "execution_count": 13,
   "metadata": {},
   "outputs": [
    {
     "name": "stderr",
     "output_type": "stream",
     "text": [
      "/usr/lib/python3.7/site-packages/sklearn/ensemble/forest.py:245: FutureWarning: The default value of n_estimators will change from 10 in version 0.20 to 100 in 0.22.\n",
      "  \"10 in version 0.20 to 100 in 0.22.\", FutureWarning)\n",
      "/usr/lib/python3.7/site-packages/sklearn/ensemble/forest.py:245: FutureWarning: The default value of n_estimators will change from 10 in version 0.20 to 100 in 0.22.\n",
      "  \"10 in version 0.20 to 100 in 0.22.\", FutureWarning)\n",
      "/usr/lib/python3.7/site-packages/sklearn/ensemble/forest.py:245: FutureWarning: The default value of n_estimators will change from 10 in version 0.20 to 100 in 0.22.\n",
      "  \"10 in version 0.20 to 100 in 0.22.\", FutureWarning)\n"
     ]
    },
    {
     "name": "stdout",
     "output_type": "stream",
     "text": [
      "LogisticRegression 0.7374242332201636\n",
      "SVC 0.32902867818098996\n",
      "LinearSVC 0.4064108834191602\n",
      "KNeighbors 0.22301021649496636\n",
      "DecisionTree 0.12596628244704505\n",
      "RandomForest 0.15532715704337927\n",
      "RandomForest2 0.3259449563098171\n",
      "MLPClassifier 0.9596456720600054\n",
      "LDA 0.8662986603283033\n",
      "SVM 0.32902867818098996\n"
     ]
    }
   ],
   "source": [
    " models = []\n",
    "models.append((\"LogisticRegression\",LogisticRegression()))\n",
    "models.append((\"SVC\",SVC()))\n",
    "models.append((\"LinearSVC\",LinearSVC()))\n",
    "models.append((\"KNeighbors\",KNeighborsClassifier()))\n",
    "models.append((\"DecisionTree\",DecisionTreeClassifier()))\n",
    "models.append((\"RandomForest\",RandomForestClassifier()))\n",
    "rf2 = RandomForestClassifier(n_estimators=100, criterion='gini',\n",
    "                            max_depth=20, random_state=0, max_features=None)\n",
    "models.append((\"RandomForest2\",rf2))\n",
    "models.append((\"MLPClassifier\",MLPClassifier(solver='lbfgs', random_state=0)))\n",
    "models.append(('LDA', LinearDiscriminantAnalysis()))\n",
    "models.append(('SVM', SVC()))\n",
    "\n",
    "results = []\n",
    "names = []\n",
    "for name,model in models:\n",
    "    result = cross_val_score(model, x, y,  cv=3)\n",
    "    names.append(name)\n",
    "    results.append(result)\n",
    "\n",
    "for i in range(len(names)):\n",
    "    print(names[i],results[i].mean())"
   ]
  },
  {
   "cell_type": "markdown",
   "metadata": {},
   "source": [
    "# Evolution du score en fonction du dataset"
   ]
  },
  {
   "cell_type": "code",
   "execution_count": 28,
   "metadata": {},
   "outputs": [],
   "source": [
    "# imports text mining\n",
    "from sklearn.model_selection import train_test_split\n",
    "\n",
    "def entrainementQuiz(x=None, y=None,sample_size=0.3):\n",
    "    # TEST DES MODELS\n",
    "    # # UTILISATION DU MODEL \n",
    "    x_train,x_test,y_train,y_test=train_test_split(x,y,test_size=sample_size)\n",
    "    alg = MLPClassifier(solver='lbfgs', random_state=0)\n",
    "    alg.fit(x_train, y_train)\n",
    "    return alg.score(x_test, y_test)\n",
    "x=[1000,2000,3000,4000,5000,6000,7000,8000,9000,10000,11000]\n",
    "y=[]\n",
    "for test in range(100,11101,100):\n",
    "    df2=df.head(test)\n",
    "    yt=df2.Personnalite\n",
    "    xt=df2.drop(['Reponses', 'Personnalite' ],axis=1)\n",
    "    y.append(entrainementQuiz(xt,yt))\n",
    "    \n",
    " "
   ]
  },
  {
   "cell_type": "code",
   "execution_count": 31,
   "metadata": {
    "scrolled": true
   },
   "outputs": [
    {
     "data": {
      "text/plain": [
       "[<matplotlib.lines.Line2D at 0x7fe2de18d050>]"
      ]
     },
     "execution_count": 31,
     "metadata": {},
     "output_type": "execute_result"
    },
    {
     "data": {
      "image/png": "[encoded data removed]",
      "text/plain": [
       "<Figure size 432x288 with 1 Axes>"
      ]
     },
     "metadata": {
      "needs_background": "light"
     },
     "output_type": "display_data"
    }
   ],
   "source": [
    "x=[]\n",
    "for i in range(100,11101,100):\n",
    "    x.append(i)\n",
    "plt.xlabel('Nb de quiz')\n",
    "plt.ylabel('Score')\n",
    "plt.plot(x, y)"
   ]
  },
  {
   "cell_type": "code",
   "execution_count": 13,
   "metadata": {},
   "outputs": [
    {
     "name": "stdout",
     "output_type": "stream",
     "text": [
      "       q0  q1  q2  q3  q4  q5  q6  q7  q8  q9  ...  q50  q51  q52  q53  q54  \\\n",
      "0       3   6   3   4   6   2   4   3   7   4  ...    3    7    5    5    4   \n",
      "1       4   2   6   4   5   3   5   1   7   6  ...    4    7    4    2    2   \n",
      "2       2   4   1   7   6   5   1   7   3   6  ...    6    2    3    3    6   \n",
      "3       2   2   6   1   7   6   4   1   4   3  ...    1    1    5    6    6   \n",
      "4       2   1   3   7   7   6   3   4   5   4  ...    6    6    1    5    1   \n",
      "...    ..  ..  ..  ..  ..  ..  ..  ..  ..  ..  ...  ...  ...  ...  ...  ...   \n",
      "11371   7   3   6   6   5   5   6   5   7   7  ...    2    6    6    5    6   \n",
      "11372   2   2   4   7   4   4   3   3   6   4  ...    3    2    6    7    7   \n",
      "11373   7   1   6   2   5   4   3   2   5   2  ...    4    1    6    7    6   \n",
      "11374   3   3   7   5   5   7   7   5   7   5  ...    7    2    6    6    4   \n",
      "11375   1   6   7   5   7   3   6   4   4   2  ...    7    4    7    3    5   \n",
      "\n",
      "       q55  q56  q57  q58  q59  \n",
      "0        5    2    7    5    6  \n",
      "1        3    3    4    5    6  \n",
      "2        5    1    5    5    2  \n",
      "3        4    4    6    5    3  \n",
      "4        3    2    6    2    6  \n",
      "...    ...  ...  ...  ...  ...  \n",
      "11371    3    3    7    3    3  \n",
      "11372    4    3    7    5    6  \n",
      "11373    3    3    4    7    6  \n",
      "11374    2    1    4    7    4  \n",
      "11375    7    4    6    5    1  \n",
      "\n",
      "[11376 rows x 60 columns]\n"
     ]
    }
   ],
   "source": [
    "print(x)"
   ]
  },
  {
   "cell_type": "code",
   "execution_count": 1,
   "metadata": {},
   "outputs": [],
   "source": [
    " from sklearn.decomposition import PCA"
   ]
  },
  {
   "cell_type": "code",
   "execution_count": 10,
   "metadata": {},
   "outputs": [
    {
     "name": "stdout",
     "output_type": "stream",
     "text": [
      "[0.01825392 0.0181052 ]\n",
      "[223.3057744  222.39426768]\n"
     ]
    }
   ],
   "source": [
    "pca = PCA(n_components=2)\n",
    "pca.fit(x)\n",
    "PCA(n_components=2)\n",
    "print(pca.explained_variance_ratio_)\n",
    "print(pca.singular_values_)"
   ]
  },
  {
   "cell_type": "code",
   "execution_count": 11,
   "metadata": {},
   "outputs": [
    {
     "name": "stdout",
     "output_type": "stream",
     "text": [
      "[[ 0.13007062 -0.02946667  0.00215505  0.10559934  0.05346694  0.00241947\n",
      "  -0.02670511  0.26029747  0.20948001  0.06810071  0.02107864  0.11200714\n",
      "   0.00953349  0.10977006  0.02368832  0.02227125 -0.0169522   0.18683444\n",
      "  -0.04958814  0.14153478  0.04772326  0.05401013 -0.26916885  0.17110931\n",
      "   0.05305861 -0.14615518  0.05853285 -0.03750568 -0.20678407 -0.15991509\n",
      "  -0.08081661  0.30664399  0.15840185 -0.1466236  -0.13155934  0.12071178\n",
      "   0.12959824  0.08978348  0.09273521 -0.14272444  0.04102544 -0.10881918\n",
      "   0.00800273 -0.03447955  0.0209049  -0.03172088 -0.0070838  -0.00902786\n",
      "  -0.04471198 -0.1596068  -0.12338415 -0.20119055  0.04730013  0.1193078\n",
      "   0.30849441  0.09025032 -0.04470585  0.18568793 -0.01871139 -0.27215184]\n",
      " [-0.32669232  0.04082697  0.09155875 -0.0125292   0.07757859  0.03222461\n",
      "   0.17974392 -0.03754691  0.08749865  0.08382794 -0.21676403  0.16430009\n",
      "  -0.18810462 -0.0186277  -0.02744168  0.01815039 -0.0114182   0.11093397\n",
      "   0.05535675  0.11333626 -0.05612176 -0.0083573   0.0207509  -0.06984854\n",
      "  -0.09981956  0.03412435 -0.04679961 -0.2003508   0.18229477 -0.04690576\n",
      "  -0.04436683 -0.2321232  -0.16794506 -0.06537185 -0.1205349   0.03517674\n",
      "   0.10250554  0.29110041  0.00412717  0.11693185  0.17534587 -0.09687364\n",
      "  -0.1015247   0.08802228 -0.1682731   0.28849216  0.01819733  0.04189994\n",
      "  -0.02895594  0.01983311 -0.11470813 -0.11165872  0.18440235 -0.00077544\n",
      "   0.12006326 -0.05283436  0.0547412  -0.19084904 -0.25546198 -0.15313553]]\n"
     ]
    }
   ],
   "source": [
    "print(pca.components_)"
   ]
  },
  {
   "cell_type": "code",
   "execution_count": 12,
   "metadata": {},
   "outputs": [
    {
     "name": "stdout",
     "output_type": "stream",
     "text": [
      "[4.38377748 4.34806244]\n"
     ]
    }
   ],
   "source": [
    "print(pca.explained_variance_)"
   ]
  },
  {
   "cell_type": "code",
   "execution_count": 28,
   "metadata": {},
   "outputs": [
    {
     "name": "stdout",
     "output_type": "stream",
     "text": [
      "original shape:    (200, 2)\n",
      "transformed shape: (11376, 2)\n"
     ]
    }
   ],
   "source": [
    "pca = PCA(n_components=2)\n",
    "pca.fit(x)\n",
    "X_pca = pca.transform(x)\n",
    "print(\"original shape:   \", X.shape)\n",
    "print(\"transformed shape:\", X_pca.shape)"
   ]
  },
  {
   "cell_type": "code",
   "execution_count": 29,
   "metadata": {},
   "outputs": [
    {
     "name": "stdout",
     "output_type": "stream",
     "text": [
      "[[ 1.43423016 -2.7919076 ]\n",
      " [ 4.02552799  1.07447463]\n",
      " [ 4.32557174 -2.07067675]\n",
      " ...\n",
      " [ 2.26174239  1.55451377]\n",
      " [-1.7395176   2.16134644]\n",
      " [-3.40408992 -0.86730493]]\n"
     ]
    }
   ],
   "source": [
    "print(X_pca)"
   ]
  },
  {
   "cell_type": "code",
   "execution_count": 30,
   "metadata": {},
   "outputs": [
    {
     "data": {
      "image/png": "[encoded data removed]",
      "text/plain": [
       "<Figure size 432x288 with 1 Axes>"
      ]
     },
     "metadata": {
      "needs_background": "light"
     },
     "output_type": "display_data"
    }
   ],
   "source": [
    "\n",
    "\n",
    "X_new = pca.inverse_transform(X_pca)\n",
    "plt.scatter(X[:, 0], X[:, 1], alpha=0.2)\n",
    "plt.scatter(X_new[:, 0], X_new[:, 1], alpha=0.8)\n",
    "plt.axis('equal');\n",
    "\n"
   ]
  },
  {
   "cell_type": "code",
   "execution_count": 33,
   "metadata": {},
   "outputs": [
    {
     "name": "stdout",
     "output_type": "stream",
     "text": [
      "0        entp\n",
      "1        enfp\n",
      "2        istp\n",
      "3        estj\n",
      "4        entj\n",
      "         ... \n",
      "11371    estp\n",
      "11372    enfj\n",
      "11373    estp\n",
      "11374    esfp\n",
      "11375    estj\n",
      "Name: Personnalite, Length: 11376, dtype: object\n"
     ]
    }
   ],
   "source": [
    "print(y)\n",
    "for i in len(y):\n",
    "    y[]"
   ]
  },
  {
   "cell_type": "code",
   "execution_count": 32,
   "metadata": {},
   "outputs": [
    {
     "ename": "ValueError",
     "evalue": "Colormap spectral is not recognized. Possible values are: Accent, Accent_r, Blues, Blues_r, BrBG, BrBG_r, BuGn, BuGn_r, BuPu, BuPu_r, CMRmap, CMRmap_r, Dark2, Dark2_r, GnBu, GnBu_r, Greens, Greens_r, Greys, Greys_r, OrRd, OrRd_r, Oranges, Oranges_r, PRGn, PRGn_r, Paired, Paired_r, Pastel1, Pastel1_r, Pastel2, Pastel2_r, PiYG, PiYG_r, PuBu, PuBuGn, PuBuGn_r, PuBu_r, PuOr, PuOr_r, PuRd, PuRd_r, Purples, Purples_r, RdBu, RdBu_r, RdGy, RdGy_r, RdPu, RdPu_r, RdYlBu, RdYlBu_r, RdYlGn, RdYlGn_r, Reds, Reds_r, Set1, Set1_r, Set2, Set2_r, Set3, Set3_r, Spectral, Spectral_r, Wistia, Wistia_r, YlGn, YlGnBu, YlGnBu_r, YlGn_r, YlOrBr, YlOrBr_r, YlOrRd, YlOrRd_r, afmhot, afmhot_r, autumn, autumn_r, binary, binary_r, bone, bone_r, brg, brg_r, bwr, bwr_r, cividis, cividis_r, cool, cool_r, coolwarm, coolwarm_r, copper, copper_r, cubehelix, cubehelix_r, flag, flag_r, gist_earth, gist_earth_r, gist_gray, gist_gray_r, gist_heat, gist_heat_r, gist_ncar, gist_ncar_r, gist_rainbow, gist_rainbow_r, gist_stern, gist_stern_r, gist_yarg, gist_yarg_r, gnuplot, gnuplot2, gnuplot2_r, gnuplot_r, gray, gray_r, hot, hot_r, hsv, hsv_r, inferno, inferno_r, jet, jet_r, magma, magma_r, nipy_spectral, nipy_spectral_r, ocean, ocean_r, pink, pink_r, plasma, plasma_r, prism, prism_r, rainbow, rainbow_r, seismic, seismic_r, spring, spring_r, summer, summer_r, tab10, tab10_r, tab20, tab20_r, tab20b, tab20b_r, tab20c, tab20c_r, terrain, terrain_r, twilight, twilight_r, twilight_shifted, twilight_shifted_r, viridis, viridis_r, winter, winter_r",
     "output_type": "error",
     "traceback": [
      "\u001b[0;31m---------------------------------------------------------------------------\u001b[0m",
      "\u001b[0;31mValueError\u001b[0m                                Traceback (most recent call last)",
      "\u001b[0;32m<ipython-input-32-dc2230750fb8>\u001b[0m in \u001b[0;36m<module>\u001b[0;34m\u001b[0m\n\u001b[1;32m      1\u001b[0m plt.scatter(X_pca[:, 0], X_pca[:, 1],\n\u001b[1;32m      2\u001b[0m             \u001b[0mc\u001b[0m\u001b[0;34m=\u001b[0m\u001b[0my\u001b[0m\u001b[0;34m,\u001b[0m \u001b[0medgecolor\u001b[0m\u001b[0;34m=\u001b[0m\u001b[0;34m'none'\u001b[0m\u001b[0;34m,\u001b[0m \u001b[0malpha\u001b[0m\u001b[0;34m=\u001b[0m\u001b[0;36m0.5\u001b[0m\u001b[0;34m,\u001b[0m\u001b[0;34m\u001b[0m\u001b[0;34m\u001b[0m\u001b[0m\n\u001b[0;32m----> 3\u001b[0;31m             cmap=plt.cm.get_cmap('spectral', 10))\n\u001b[0m\u001b[1;32m      4\u001b[0m \u001b[0mplt\u001b[0m\u001b[0;34m.\u001b[0m\u001b[0mxlabel\u001b[0m\u001b[0;34m(\u001b[0m\u001b[0;34m'component 1'\u001b[0m\u001b[0;34m)\u001b[0m\u001b[0;34m\u001b[0m\u001b[0;34m\u001b[0m\u001b[0m\n\u001b[1;32m      5\u001b[0m \u001b[0mplt\u001b[0m\u001b[0;34m.\u001b[0m\u001b[0mylabel\u001b[0m\u001b[0;34m(\u001b[0m\u001b[0;34m'component 2'\u001b[0m\u001b[0;34m)\u001b[0m\u001b[0;34m\u001b[0m\u001b[0;34m\u001b[0m\u001b[0m\n",
      "\u001b[0;32m/usr/lib/python3.7/site-packages/matplotlib/cm.py\u001b[0m in \u001b[0;36mget_cmap\u001b[0;34m(name, lut)\u001b[0m\n\u001b[1;32m    181\u001b[0m         raise ValueError(\n\u001b[1;32m    182\u001b[0m             \u001b[0;34m\"Colormap %s is not recognized. Possible values are: %s\"\u001b[0m\u001b[0;34m\u001b[0m\u001b[0;34m\u001b[0m\u001b[0m\n\u001b[0;32m--> 183\u001b[0;31m             % (name, ', '.join(sorted(cmap_d))))\n\u001b[0m\u001b[1;32m    184\u001b[0m \u001b[0;34m\u001b[0m\u001b[0m\n\u001b[1;32m    185\u001b[0m \u001b[0;34m\u001b[0m\u001b[0m\n",
      "\u001b[0;31mValueError\u001b[0m: Colormap spectral is not recognized. Possible values are: Accent, Accent_r, Blues, Blues_r, BrBG, BrBG_r, BuGn, BuGn_r, BuPu, BuPu_r, CMRmap, CMRmap_r, Dark2, Dark2_r, GnBu, GnBu_r, Greens, Greens_r, Greys, Greys_r, OrRd, OrRd_r, Oranges, Oranges_r, PRGn, PRGn_r, Paired, Paired_r, Pastel1, Pastel1_r, Pastel2, Pastel2_r, PiYG, PiYG_r, PuBu, PuBuGn, PuBuGn_r, PuBu_r, PuOr, PuOr_r, PuRd, PuRd_r, Purples, Purples_r, RdBu, RdBu_r, RdGy, RdGy_r, RdPu, RdPu_r, RdYlBu, RdYlBu_r, RdYlGn, RdYlGn_r, Reds, Reds_r, Set1, Set1_r, Set2, Set2_r, Set3, Set3_r, Spectral, Spectral_r, Wistia, Wistia_r, YlGn, YlGnBu, YlGnBu_r, YlGn_r, YlOrBr, YlOrBr_r, YlOrRd, YlOrRd_r, afmhot, afmhot_r, autumn, autumn_r, binary, binary_r, bone, bone_r, brg, brg_r, bwr, bwr_r, cividis, cividis_r, cool, cool_r, coolwarm, coolwarm_r, copper, copper_r, cubehelix, cubehelix_r, flag, flag_r, gist_earth, gist_earth_r, gist_gray, gist_gray_r, gist_heat, gist_heat_r, gist_ncar, gist_ncar_r, gist_rainbow, gist_rainbow_r, gist_stern, gist_stern_r, gist_yarg, gist_yarg_r, gnuplot, gnuplot2, gnuplot2_r, gnuplot_r, gray, gray_r, hot, hot_r, hsv, hsv_r, inferno, inferno_r, jet, jet_r, magma, magma_r, nipy_spectral, nipy_spectral_r, ocean, ocean_r, pink, pink_r, plasma, plasma_r, prism, prism_r, rainbow, rainbow_r, seismic, seismic_r, spring, spring_r, summer, summer_r, tab10, tab10_r, tab20, tab20_r, tab20b, tab20b_r, tab20c, tab20c_r, terrain, terrain_r, twilight, twilight_r, twilight_shifted, twilight_shifted_r, viridis, viridis_r, winter, winter_r"
     ]
    }
   ],
   "source": [
    "plt.scatter(X_pca[:, 0], X_pca[:, 1],\n",
    "            c=, edgecolor='none', alpha=0.5,\n",
    "            cmap=plt.cm.get_cmap('spectral', 10))\n",
    "plt.xlabel('component 1')\n",
    "plt.ylabel('component 2')\n",
    "plt.colorbar();"
   ]
  },
  {
   "cell_type": "code",
   "execution_count": 37,
   "metadata": {},
   "outputs": [
    {
     "ename": "AttributeError",
     "evalue": "'MLPClassifier' object has no attribute 'fit_predict'",
     "output_type": "error",
     "traceback": [
      "\u001b[0;31m---------------------------------------------------------------------------\u001b[0m",
      "\u001b[0;31mAttributeError\u001b[0m                            Traceback (most recent call last)",
      "\u001b[0;32m<ipython-input-37-ddcda91487bd>\u001b[0m in \u001b[0;36m<module>\u001b[0;34m\u001b[0m\n\u001b[1;32m      2\u001b[0m \u001b[0mx_train\u001b[0m\u001b[0;34m,\u001b[0m\u001b[0mx_test\u001b[0m\u001b[0;34m,\u001b[0m\u001b[0my_train\u001b[0m\u001b[0;34m,\u001b[0m\u001b[0my_test\u001b[0m\u001b[0;34m=\u001b[0m\u001b[0mtrain_test_split\u001b[0m\u001b[0;34m(\u001b[0m\u001b[0mx\u001b[0m\u001b[0;34m,\u001b[0m\u001b[0my\u001b[0m\u001b[0;34m,\u001b[0m\u001b[0mtest_size\u001b[0m\u001b[0;34m=\u001b[0m\u001b[0;36m0.3\u001b[0m\u001b[0;34m)\u001b[0m\u001b[0;34m\u001b[0m\u001b[0;34m\u001b[0m\u001b[0m\n\u001b[1;32m      3\u001b[0m \u001b[0malg\u001b[0m \u001b[0;34m=\u001b[0m \u001b[0mMLPClassifier\u001b[0m\u001b[0;34m(\u001b[0m\u001b[0msolver\u001b[0m\u001b[0;34m=\u001b[0m\u001b[0;34m'lbfgs'\u001b[0m\u001b[0;34m,\u001b[0m \u001b[0mrandom_state\u001b[0m\u001b[0;34m=\u001b[0m\u001b[0;36m0\u001b[0m\u001b[0;34m)\u001b[0m\u001b[0;34m\u001b[0m\u001b[0;34m\u001b[0m\u001b[0m\n\u001b[0;32m----> 4\u001b[0;31m \u001b[0mclasse\u001b[0m \u001b[0;34m=\u001b[0m \u001b[0malg\u001b[0m\u001b[0;34m.\u001b[0m\u001b[0mfit_predict\u001b[0m\u001b[0;34m(\u001b[0m\u001b[0mx_test\u001b[0m\u001b[0;34m)\u001b[0m\u001b[0;34m\u001b[0m\u001b[0;34m\u001b[0m\u001b[0m\n\u001b[0m\u001b[1;32m      5\u001b[0m \u001b[0mclass_center\u001b[0m \u001b[0;34m=\u001b[0m \u001b[0mDataFrame\u001b[0m\u001b[0;34m(\u001b[0m\u001b[0malg\u001b[0m\u001b[0;34m.\u001b[0m\u001b[0mcluster_centers_\u001b[0m\u001b[0;34m,\u001b[0m \u001b[0mlabels\u001b[0m\u001b[0;34m=\u001b[0m\u001b[0;34m\"Element central\"\u001b[0m\u001b[0;34m)\u001b[0m\u001b[0;34m\u001b[0m\u001b[0;34m\u001b[0m\u001b[0m\n",
      "\u001b[0;31mAttributeError\u001b[0m: 'MLPClassifier' object has no attribute 'fit_predict'"
     ]
    }
   ],
   "source": [
    "from sklearn.cluster import KMeans\n",
    "x_train,x_test,y_train,y_test=train_test_split(x,y,test_size=0.3)\n",
    "alg = MLPClassifier(solver='lbfgs', random_state=0)\n",
    "classe = alg.fit(x_test)\n",
    "class_center = DataFrame(alg.cluster_centers_, labels=\"Element central\")"
   ]
  },
  {
   "cell_type": "code",
   "execution_count": null,
   "metadata": {},
   "outputs": [],
   "source": []
  }
 ],
 "metadata": {
  "kernelspec": {
   "display_name": "Python 3",
   "language": "python",
   "name": "python3"
  },
  "language_info": {
   "codemirror_mode": {
    "name": "ipython",
    "version": 3
   },
   "file_extension": ".py",
   "mimetype": "text/x-python",
   "name": "python",
   "nbconvert_exporter": "python",
   "pygments_lexer": "ipython3",
   "version": "3.7.4"
  }
 },
 "nbformat": 4,
 "nbformat_minor": 2
}
